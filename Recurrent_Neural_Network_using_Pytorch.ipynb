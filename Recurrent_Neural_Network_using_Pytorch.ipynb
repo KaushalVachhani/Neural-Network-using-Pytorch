{
  "nbformat": 4,
  "nbformat_minor": 0,
  "metadata": {
    "colab": {
      "name": "Recurrent Neural Network using Pytorch",
      "provenance": [],
      "collapsed_sections": []
    },
    "kernelspec": {
      "name": "python3",
      "display_name": "Python 3"
    },
    "language_info": {
      "name": "python"
    },
    "accelerator": "GPU"
  },
  "cells": [
    {
      "cell_type": "code",
      "metadata": {
        "id": "PblDAd7_yhPJ"
      },
      "source": [
        "# Imports\n",
        "import torch\n",
        "import torch.nn as nn\n",
        "import torch.optim as optim\n",
        "import torch.nn.functional as F\n",
        "from torch.utils.data import DataLoader\n",
        "import torchvision.datasets as datasets\n",
        "import torchvision.transforms as transforms"
      ],
      "execution_count": 62,
      "outputs": []
    },
    {
      "cell_type": "code",
      "metadata": {
        "id": "KMoMWXftzRbE"
      },
      "source": [
        "# Create Fully Connected Network\n",
        "class RNN(nn.Module):\n",
        "  def __init__(self, input_size, hidden_size, num_layers, num_classes):\n",
        "    super(RNN, self).__init__()\n",
        "    self.hidden_size = hidden_size\n",
        "    self.num_layers = num_layers\n",
        "    self.rnn = nn.RNN(input_size, hidden_size, num_layers, batch_first = True)\n",
        "    self.fc = nn.Linear(hidden_size*sequence_length, num_classes)\n",
        "\n",
        "  def forward(self, x):\n",
        "    h0 = torch.zeros(self.num_layers, x.size(0), self.hidden_size).to(device)\n",
        "    out, _ = self.rnn(x,h0)\n",
        "    out = out.reshape(out.shape[0], -1)\n",
        "    out = self.fc(out)\n",
        "    return out\n"
      ],
      "execution_count": 63,
      "outputs": []
    },
    {
      "cell_type": "code",
      "metadata": {
        "id": "SDDD3Fw30PKx"
      },
      "source": [
        "# Set device\n",
        "\n",
        "device = torch.device('cuda' if torch.cuda.is_available() else 'cpu')"
      ],
      "execution_count": 64,
      "outputs": []
    },
    {
      "cell_type": "code",
      "metadata": {
        "id": "M1cc12DO1oOj"
      },
      "source": [
        "# Hyperparameters\n",
        "\n",
        "input_size = 28\n",
        "sequence_length = 28\n",
        "num_layers = 2\n",
        "hidden_size = 256\n",
        "num_classes = 10\n",
        "learning_rate = 0.001\n",
        "batch_size = 64\n",
        "num_epochs = 10"
      ],
      "execution_count": 65,
      "outputs": []
    },
    {
      "cell_type": "code",
      "metadata": {
        "id": "bSYyycE-16rO"
      },
      "source": [
        "# Load Dataset\n",
        "\n",
        "train_dataset = datasets.MNIST(root = '/dataset', train = True, transform = transforms.ToTensor(), download= True)\n",
        "train_loader = DataLoader(dataset = train_dataset, batch_size = batch_size, shuffle = True)\n",
        "test_dataset = datasets.MNIST(root = '/dataset', train = False, transform = transforms.ToTensor(), download= True)\n",
        "test_loader = DataLoader(dataset = test_dataset, batch_size = batch_size, shuffle = True)"
      ],
      "execution_count": 66,
      "outputs": []
    },
    {
      "cell_type": "code",
      "metadata": {
        "id": "YE5OoJ5I28K_"
      },
      "source": [
        "# Initialize Network\n",
        "\n",
        "model = RNN(input_size, hidden_size, num_layers, num_classes).to(device)"
      ],
      "execution_count": 67,
      "outputs": []
    },
    {
      "cell_type": "code",
      "metadata": {
        "id": "RjHnW6OE3MGm"
      },
      "source": [
        "# Loss and Optimizer\n",
        "\n",
        "criterion = nn.CrossEntropyLoss()\n",
        "optimizer = optim.Adam(model.parameters(), lr= learning_rate)"
      ],
      "execution_count": 68,
      "outputs": []
    },
    {
      "cell_type": "code",
      "metadata": {
        "id": "5lWafBPK3Ym6",
        "colab": {
          "base_uri": "https://localhost:8080/"
        },
        "outputId": "e71167e0-194d-4fa1-df9f-dd2cf48f254f"
      },
      "source": [
        "# Train Network\n",
        "\n",
        "for epoch in range(num_epochs):\n",
        "  print(f'Epoch {epoch} is running')\n",
        "  for batch_idx, (data,targets) in enumerate(train_loader):\n",
        "    # Get data to cuda\n",
        "    data = data.to(device = device).squeeze(1)\n",
        "    targets = targets.to(device = device)\n",
        "\n",
        "    # Forward\n",
        "    scores = model(data)\n",
        "    loss = criterion(scores, targets)\n",
        "\n",
        "    # Backword\n",
        "\n",
        "    optimizer.zero_grad()\n",
        "    loss.backward()\n",
        "\n",
        "    # Gradient descent or adam step\n",
        "\n",
        "    optimizer.step()"
      ],
      "execution_count": 69,
      "outputs": [
        {
          "output_type": "stream",
          "text": [
            "Epoch 0 is running\n",
            "Epoch 1 is running\n",
            "Epoch 2 is running\n",
            "Epoch 3 is running\n",
            "Epoch 4 is running\n",
            "Epoch 5 is running\n",
            "Epoch 6 is running\n",
            "Epoch 7 is running\n",
            "Epoch 8 is running\n",
            "Epoch 9 is running\n"
          ],
          "name": "stdout"
        }
      ]
    },
    {
      "cell_type": "code",
      "metadata": {
        "colab": {
          "base_uri": "https://localhost:8080/"
        },
        "id": "2WrVlUFV4Z7w",
        "outputId": "519fb995-0da4-46bb-c290-94788155a089"
      },
      "source": [
        "# Check Accuracy on training & test\n",
        "\n",
        "def check_accuracy(loader, model):\n",
        "\n",
        "  if loader.dataset.train:\n",
        "    print('Checking accuracy on training data')\n",
        "  else:\n",
        "    print('Checking accuracy on testing data')\n",
        "  num_correct = 0\n",
        "  num_samples = 0\n",
        "  model.eval()\n",
        "\n",
        "  with torch.no_grad():\n",
        "    for x,y in loader:\n",
        "      x = x.to(device = device).squeeze(1)\n",
        "      y = y.to(device = device)\n",
        "\n",
        "      scores = model(x)\n",
        "      _, predictions = scores.max(1)\n",
        "      num_correct += (predictions == y).sum()\n",
        "      num_samples += predictions.size(0)\n",
        "    \n",
        "    print(f'Got {num_correct} / {num_samples} with accuracy {float(num_correct)/float(num_samples)*100:.2f}')\n",
        "\n",
        "  model.train()\n",
        "\n",
        "check_accuracy(train_loader, model)\n",
        "check_accuracy(test_loader, model)"
      ],
      "execution_count": 70,
      "outputs": [
        {
          "output_type": "stream",
          "text": [
            "Checking accuracy on training data\n",
            "Got 58957 / 60000 with accuracy 98.26\n",
            "Checking accuracy on testing data\n",
            "Got 9743 / 10000 with accuracy 97.43\n"
          ],
          "name": "stdout"
        }
      ]
    }
  ]
}